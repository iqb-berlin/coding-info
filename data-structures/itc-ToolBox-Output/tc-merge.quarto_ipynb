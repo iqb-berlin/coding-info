{
  "cells": [
    {
      "cell_type": "markdown",
      "metadata": {},
      "source": [
        "---\n",
        "lang: de\n",
        "title: \"Output itc-ToolBox: TC-Merge\"\n",
        "---\n",
        "\n",
        "\n",
        "\n",
        "\n",
        "# `person`\n",
        "\n",
        "Eine TC-Merge-Datei ist stets eine Liste von Personen.\n",
        "\n",
        "* `\n",
        "\n",
        "\n",
        "\n",
        "\n",
        "```{json}\n",
        "[\n",
        "  {\n",
        "    \"group\": \"cxz7hpwr\",\n",
        "    \"login\": \"cxz7hpwr\",\n",
        "    \"code\": \"1dpe\",\n",
        "    \"booklets\": [ ]\n",
        "  },\n",
        "  {\n",
        "    \"group\": \"cxz7hpwr\",\n",
        "    \"login\": \"cxz7hpwr\",\n",
        "    \"code\": \"1fud\",\n",
        "    \"booklets\": [ ]\n",
        "  }\n",
        "]\n",
        "```\n",
        "\n",
        "\n",
        "\n",
        "\n",
        "Die itc-ToolBox ist darauf ausgerichtet, bei hohen Datenmengen pro Testtaker-Gruppe eine Datei anzulegen. Möchte man die gesamte Datenmenge verarbeiten, müssen diese einzelnen Listen zusammengeführt werden. Da die JSON-Datei formatiert ist, kann man entsprechend die erste bzw. letzte Zeile einer Datei löschen bzw. ersetzen."
      ],
      "id": "866ffce1"
    }
  ],
  "metadata": {
    "kernelspec": {
      "display_name": "Python 3",
      "language": "python",
      "name": "python3"
    }
  },
  "nbformat": 4,
  "nbformat_minor": 5
}